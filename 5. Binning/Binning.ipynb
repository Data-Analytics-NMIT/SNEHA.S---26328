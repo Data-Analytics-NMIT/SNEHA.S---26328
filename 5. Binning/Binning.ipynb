{
 "cells": [
  {
   "cell_type": "code",
   "execution_count": 1,
   "metadata": {},
   "outputs": [
    {
     "name": "stdout",
     "output_type": "stream",
     "text": [
      "[66  3 75 66  7 97 51 86 50 98 28 41 60 11 37 69 37 14 77 75]\n",
      "[6 0 7 6 0 9 5 8 5 9 2 4 6 1 3 6 3 1 7 7]\n",
      "[1 3 3 1 0 1 1 2 2 3 3 0 0 2 2 0]\n",
      "0.25      71.00\n",
      "0.50     896.50\n",
      "0.75    8049.75\n",
      "dtype: float64\n"
     ]
    }
   ],
   "source": [
    "import pandas as pd\n",
    "import numpy as np\n",
    "\n",
    "# Generate 20 random integers uniformly between 0 and 99\n",
    "small_counts = np.random.randint(0, 100, 20)\n",
    "print(small_counts)\n",
    "# Map to evenly spaced bins 0-9 by division\n",
    "print(np.floor_divide(small_counts, 10))\n",
    "\n",
    "large_counts = [296, 8286, 64011, 80, 3, 725, 867, 2215, 7689, 11495, 91897, 44, 28, 7971, 926, 12]\n",
    "# print(np.floor(np.log10(large_counts)))\n",
    "#Map the counts to quartiles into 4 bins (quartile)\n",
    "print(pd.qcut(large_counts, 4, labels=False))\n",
    "#convert large_counts into series data\n",
    "large_counts_series = pd.Series(large_counts)\n",
    "# print(large_counts_series)\n",
    "print(large_counts_series.quantile([0.25, 0.5, 0.75]))"
   ]
  },
  {
   "cell_type": "code",
   "execution_count": null,
   "metadata": {},
   "outputs": [],
   "source": []
  }
 ],
 "metadata": {
  "kernelspec": {
   "display_name": "Python 3",
   "language": "python",
   "name": "python3"
  },
  "language_info": {
   "codemirror_mode": {
    "name": "ipython",
    "version": 3
   },
   "file_extension": ".py",
   "mimetype": "text/x-python",
   "name": "python",
   "nbconvert_exporter": "python",
   "pygments_lexer": "ipython3",
   "version": "3.8.5"
  }
 },
 "nbformat": 4,
 "nbformat_minor": 4
}
