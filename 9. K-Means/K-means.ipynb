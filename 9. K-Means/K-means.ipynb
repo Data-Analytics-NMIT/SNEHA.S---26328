{
 "cells": [
  {
   "cell_type": "code",
   "execution_count": 3,
   "metadata": {},
   "outputs": [
    {
     "name": "stdout",
     "output_type": "stream",
     "text": [
      "   SepalLengthCm  SepalWidthCm  PetalLengthCm  PetalWidthCm      Species\n",
      "0            5.1           3.5            1.4           0.2  Iris-setosa\n",
      "1            4.9           3.0            1.4           0.2  Iris-setosa\n",
      "2            4.7           3.2            1.3           0.2  Iris-setosa\n",
      "3            4.6           3.1            1.5           0.2  Iris-setosa\n",
      "4            5.0           3.6            1.4           0.2  Iris-setosa\n",
      "5            5.4           3.9            1.7           0.4  Iris-setosa\n",
      "6            4.6           3.4            1.4           0.3  Iris-setosa\n",
      "7            5.0           3.4            1.5           0.2  Iris-setosa\n",
      "8            4.4           2.9            1.4           0.2  Iris-setosa\n",
      "9            4.9           3.1            1.5           0.1  Iris-setosa\n",
      "[1 1 1 1 1 1 1 1 1 1 1 1 1 1 1 1 1 1 1 1 1 1 1 1 1 1 1 1 1 1 1 1 1 1 1 1 1\n",
      " 1 1 1 1 1 1 1 1 1 1 1 1 1 3 3 3 2 3 3 3 2 3 2 2 3 2 3 2 3 3 2 3 2 3 2 3 3\n",
      " 3 3 3 3 3 2 2 2 2 3 2 3 3 3 2 2 2 3 2 2 2 2 2 3 2 2 0 3 4 0 0 4 2 4 0 4 0\n",
      " 0 0 3 0 0 0 4 4 3 0 3 4 3 0 4 3 3 0 4 4 4 0 3 3 4 0 0 3 0 0 0 3 0 0 0 3 0\n",
      " 0 3]\n",
      "[[6.52916667 3.05833333 5.50833333 2.1625    ]\n",
      " [5.006      3.418      1.464      0.244     ]\n",
      " [5.508      2.6        3.908      1.204     ]\n",
      " [6.20769231 2.85384615 4.74615385 1.56410256]\n",
      " [7.475      3.125      6.3        2.05      ]]\n"
     ]
    },
    {
     "data": {
      "image/png": "[encoded data removed]",
      "text/plain": [
       "<Figure size 432x288 with 1 Axes>"
      ]
     },
     "metadata": {
      "needs_background": "light"
     },
     "output_type": "display_data"
    }
   ],
   "source": [
    "#Import libraries\n",
    "import pandas as pd\n",
    "from sklearn.cluster import KMeans\n",
    "#import the dataset\n",
    "df = pd.read_csv('Iris.csv')\n",
    "print(df.head(10))\n",
    "\n",
    "x = df.iloc[:, [0,1,2,3]].values # Load Input Attributes\n",
    "\n",
    "kmeans5 = KMeans(n_clusters=5) # Create 5 Clusters\n",
    "y_kmeans5 = kmeans5.fit_predict(x)\n",
    "print(y_kmeans5) #Prints the clusters for each record\n",
    "\n",
    "print(kmeans5.cluster_centers_)\n",
    "\n",
    "Error =[]\n",
    "for i in range(1, 11):\n",
    "    kmeans = KMeans(n_clusters = i).fit(x)\n",
    "    kmeans.fit(x)\n",
    "    Error.append(kmeans.inertia_)\n",
    "import matplotlib.pyplot as plt\n",
    "plt.plot(range(1, 11), Error)\n",
    "plt.title('Elbow method')\n",
    "plt.xlabel('No of clusters')\n",
    "plt.ylabel('Error')\n",
    "plt.show()"
   ]
  },
  {
   "cell_type": "code",
   "execution_count": null,
   "metadata": {},
   "outputs": [],
   "source": []
  }
 ],
 "metadata": {
  "kernelspec": {
   "display_name": "Python 3",
   "language": "python",
   "name": "python3"
  },
  "language_info": {
   "codemirror_mode": {
    "name": "ipython",
    "version": 3
   },
   "file_extension": ".py",
   "mimetype": "text/x-python",
   "name": "python",
   "nbconvert_exporter": "python",
   "pygments_lexer": "ipython3",
   "version": "3.8.5"
  }
 },
 "nbformat": 4,
 "nbformat_minor": 4
}
